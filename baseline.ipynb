{
 "cells": [
  {
   "cell_type": "markdown",
   "id": "199be930-7e11-43f4-b056-a52fc1a93dc8",
   "metadata": {},
   "source": [
    "## Import"
   ]
  },
  {
   "cell_type": "code",
   "execution_count": 2,
   "id": "4dfa2d8a",
   "metadata": {},
   "outputs": [],
   "source": [
    "import os\n",
    "import subprocess\n",
    "\n",
    "def download_and_unzip():\n",
    "    if not os.path.exists('open.zip'):\n",
    "        # Download data from Google Drive\n",
    "        subprocess.run(['pip', 'install', 'gdown'], check=True)\n",
    "        subprocess.run(['gdown', 'https://drive.google.com/uc?id=13WixS0gfcsb7NkKGje6QZA1phPlVhKQm'], check=True)\n",
    "    if not os.path.exists('./data'):\n",
    "        # Unzip to the 'data' directory\n",
    "        subprocess.run(['unzip', 'open.zip', '-d', 'data'], check=True)\n",
    "    \n",
    "def download_lib():\n",
    "    subprocess.run(['pip', 'install', '-r', 'requirements.txt'], stdout=subprocess.PIPE, stderr=subprocess.PIPE,check=True)\n",
    "\n",
    "download_and_unzip()\n",
    "download_lib()"
   ]
  },
  {
   "cell_type": "code",
   "execution_count": 3,
   "id": "94dc6b5c-f92a-403d-a6f0-599f712dd15b",
   "metadata": {},
   "outputs": [],
   "source": [
    "import pandas as pd\n",
    "import numpy as np\n",
    "import glob\n",
    "from sklearn.feature_extraction.text import CountVectorizer\n",
    "from sklearn.metrics.pairwise import cosine_similarity\n",
    "from tqdm import tqdm"
   ]
  },
  {
   "cell_type": "markdown",
   "id": "3574acd8-517e-4fd2-ae11-cbe2e3b10d33",
   "metadata": {},
   "source": [
    "## Load Train / Test dataset"
   ]
  },
  {
   "cell_type": "code",
   "execution_count": 4,
   "id": "fa791ae7-c9bb-4bcb-9228-41acbb9acecd",
   "metadata": {},
   "outputs": [
    {
     "data": {
      "text/html": [
       "<div>\n",
       "<style scoped>\n",
       "    .dataframe tbody tr th:only-of-type {\n",
       "        vertical-align: middle;\n",
       "    }\n",
       "\n",
       "    .dataframe tbody tr th {\n",
       "        vertical-align: top;\n",
       "    }\n",
       "\n",
       "    .dataframe thead th {\n",
       "        text-align: right;\n",
       "    }\n",
       "</style>\n",
       "<table border=\"1\" class=\"dataframe\">\n",
       "  <thead>\n",
       "    <tr style=\"text-align: right;\">\n",
       "      <th></th>\n",
       "      <th>code1_path</th>\n",
       "      <th>code2_path</th>\n",
       "      <th>code1</th>\n",
       "      <th>code2</th>\n",
       "      <th>similar</th>\n",
       "    </tr>\n",
       "  </thead>\n",
       "  <tbody>\n",
       "    <tr>\n",
       "      <th>0</th>\n",
       "      <td>./train_code/problem393/problem393_19.cpp</td>\n",
       "      <td>./train_code/problem033/problem033_439.cpp</td>\n",
       "      <td>#include &lt;bits/stdc++.h&gt;\\n\\nusing namespace st...</td>\n",
       "      <td>#include &lt;algorithm&gt;\\n#include &lt;bitset&gt;\\n#incl...</td>\n",
       "      <td>0</td>\n",
       "    </tr>\n",
       "    <tr>\n",
       "      <th>1</th>\n",
       "      <td>./train_code/problem019/problem019_210.cpp</td>\n",
       "      <td>./train_code/problem019/problem019_63.cpp</td>\n",
       "      <td>#include &lt;iostream&gt;\\n\\nusing namespace std;\\n\\...</td>\n",
       "      <td>#include &lt;iostream&gt;\\n#include &lt;string&gt;\\nusing ...</td>\n",
       "      <td>1</td>\n",
       "    </tr>\n",
       "    <tr>\n",
       "      <th>2</th>\n",
       "      <td>./train_code/problem107/problem107_486.cpp</td>\n",
       "      <td>./train_code/problem107/problem107_340.cpp</td>\n",
       "      <td>#include &lt;iostream&gt;\\n#include &lt;vector&gt;\\nusing ...</td>\n",
       "      <td>#include &lt;cstdio&gt;\\n#include &lt;cstdlib&gt;\\n#includ...</td>\n",
       "      <td>1</td>\n",
       "    </tr>\n",
       "    <tr>\n",
       "      <th>3</th>\n",
       "      <td>./train_code/problem187/problem187_257.cpp</td>\n",
       "      <td>./train_code/problem403/problem403_135.cpp</td>\n",
       "      <td>#include &lt;bits/stdc++.h&gt;\\n#include &lt;unordered_...</td>\n",
       "      <td>#include &lt;bits/stdc++.h&gt;\\nusing namespace std;...</td>\n",
       "      <td>0</td>\n",
       "    </tr>\n",
       "    <tr>\n",
       "      <th>4</th>\n",
       "      <td>./train_code/problem173/problem173_490.cpp</td>\n",
       "      <td>./train_code/problem173/problem173_345.cpp</td>\n",
       "      <td>#include &lt;bits/stdc++.h&gt;\\ntypedef long long ll...</td>\n",
       "      <td>#include \"bits/stdc++.h\"\\n#define rep(i,n) for...</td>\n",
       "      <td>1</td>\n",
       "    </tr>\n",
       "  </tbody>\n",
       "</table>\n",
       "</div>"
      ],
      "text/plain": [
       "                                   code1_path  \\\n",
       "0   ./train_code/problem393/problem393_19.cpp   \n",
       "1  ./train_code/problem019/problem019_210.cpp   \n",
       "2  ./train_code/problem107/problem107_486.cpp   \n",
       "3  ./train_code/problem187/problem187_257.cpp   \n",
       "4  ./train_code/problem173/problem173_490.cpp   \n",
       "\n",
       "                                   code2_path  \\\n",
       "0  ./train_code/problem033/problem033_439.cpp   \n",
       "1   ./train_code/problem019/problem019_63.cpp   \n",
       "2  ./train_code/problem107/problem107_340.cpp   \n",
       "3  ./train_code/problem403/problem403_135.cpp   \n",
       "4  ./train_code/problem173/problem173_345.cpp   \n",
       "\n",
       "                                               code1  \\\n",
       "0  #include <bits/stdc++.h>\\n\\nusing namespace st...   \n",
       "1  #include <iostream>\\n\\nusing namespace std;\\n\\...   \n",
       "2  #include <iostream>\\n#include <vector>\\nusing ...   \n",
       "3  #include <bits/stdc++.h>\\n#include <unordered_...   \n",
       "4  #include <bits/stdc++.h>\\ntypedef long long ll...   \n",
       "\n",
       "                                               code2  similar  \n",
       "0  #include <algorithm>\\n#include <bitset>\\n#incl...        0  \n",
       "1  #include <iostream>\\n#include <string>\\nusing ...        1  \n",
       "2  #include <cstdio>\\n#include <cstdlib>\\n#includ...        1  \n",
       "3  #include <bits/stdc++.h>\\nusing namespace std;...        0  \n",
       "4  #include \"bits/stdc++.h\"\\n#define rep(i,n) for...        1  "
      ]
     },
     "execution_count": 4,
     "metadata": {},
     "output_type": "execute_result"
    }
   ],
   "source": [
    "# 추가로 주어지는 Python Code 데이터들을 활용하여 새로운 Pair 쌍을 생성하여 더 많은 데이터로 학습할 수 있습니다.\n",
    "# 베이스라인에서는 이미 Pair 쌍으로 구축되어 주어지는 sample 데이터들로 검증을 진행합니다.\n",
    "val = pd.read_csv(\"./data/sample_train.csv\")\n",
    "val.head()"
   ]
  },
  {
   "cell_type": "code",
   "execution_count": 5,
   "id": "ed61918b-271b-485b-9e6e-2a871ea24df9",
   "metadata": {},
   "outputs": [
    {
     "data": {
      "text/html": [
       "<div>\n",
       "<style scoped>\n",
       "    .dataframe tbody tr th:only-of-type {\n",
       "        vertical-align: middle;\n",
       "    }\n",
       "\n",
       "    .dataframe tbody tr th {\n",
       "        vertical-align: top;\n",
       "    }\n",
       "\n",
       "    .dataframe thead th {\n",
       "        text-align: right;\n",
       "    }\n",
       "</style>\n",
       "<table border=\"1\" class=\"dataframe\">\n",
       "  <thead>\n",
       "    <tr style=\"text-align: right;\">\n",
       "      <th></th>\n",
       "      <th>pair_id</th>\n",
       "      <th>code1</th>\n",
       "      <th>code2</th>\n",
       "    </tr>\n",
       "  </thead>\n",
       "  <tbody>\n",
       "    <tr>\n",
       "      <th>0</th>\n",
       "      <td>TEST_000000</td>\n",
       "      <td>#include &lt;bits/stdc++.h&gt;\\nusing namespace std;...</td>\n",
       "      <td>#include &lt;bits/stdc++.h&gt;\\n#define rep(i, n) fo...</td>\n",
       "    </tr>\n",
       "    <tr>\n",
       "      <th>1</th>\n",
       "      <td>TEST_000001</td>\n",
       "      <td>#include&lt;bits/stdc++.h&gt;\\n#define rep(i,n)for(i...</td>\n",
       "      <td>// //bitset操作\\n// #include &lt;iostream&gt;\\n// #inc...</td>\n",
       "    </tr>\n",
       "    <tr>\n",
       "      <th>2</th>\n",
       "      <td>TEST_000002</td>\n",
       "      <td>#include &lt;bits/stdc++.h&gt;\\nusing namespace std;...</td>\n",
       "      <td>#include &lt;bits/stdc++.h&gt;\\n#include &lt;ext/pb_ds/...</td>\n",
       "    </tr>\n",
       "    <tr>\n",
       "      <th>3</th>\n",
       "      <td>TEST_000003</td>\n",
       "      <td>#include &lt;bits/stdc++.h&gt;\\nusing namespace std;...</td>\n",
       "      <td>#include &lt;bits/stdc++.h&gt;\\nusing namespace std;...</td>\n",
       "    </tr>\n",
       "    <tr>\n",
       "      <th>4</th>\n",
       "      <td>TEST_000004</td>\n",
       "      <td>#include&lt;bits/stdc++.h&gt;\\nusing namespace std;\\...</td>\n",
       "      <td>#include&lt;iostream&gt;\\n#include&lt;algorithm&gt;\\n#incl...</td>\n",
       "    </tr>\n",
       "  </tbody>\n",
       "</table>\n",
       "</div>"
      ],
      "text/plain": [
       "       pair_id                                              code1  \\\n",
       "0  TEST_000000  #include <bits/stdc++.h>\\nusing namespace std;...   \n",
       "1  TEST_000001  #include<bits/stdc++.h>\\n#define rep(i,n)for(i...   \n",
       "2  TEST_000002  #include <bits/stdc++.h>\\nusing namespace std;...   \n",
       "3  TEST_000003  #include <bits/stdc++.h>\\nusing namespace std;...   \n",
       "4  TEST_000004  #include<bits/stdc++.h>\\nusing namespace std;\\...   \n",
       "\n",
       "                                               code2  \n",
       "0  #include <bits/stdc++.h>\\n#define rep(i, n) fo...  \n",
       "1  // //bitset操作\\n// #include <iostream>\\n// #inc...  \n",
       "2  #include <bits/stdc++.h>\\n#include <ext/pb_ds/...  \n",
       "3  #include <bits/stdc++.h>\\nusing namespace std;...  \n",
       "4  #include<iostream>\\n#include<algorithm>\\n#incl...  "
      ]
     },
     "execution_count": 5,
     "metadata": {},
     "output_type": "execute_result"
    }
   ],
   "source": [
    "test = pd.read_csv(\"./data/test.csv\")\n",
    "test.head()"
   ]
  },
  {
   "cell_type": "markdown",
   "id": "f20415d1-d28f-4e80-b338-7854505808ba",
   "metadata": {},
   "source": [
    "## Define Model (CountVectorizer+CosineSimilarity)"
   ]
  },
  {
   "cell_type": "code",
   "execution_count": 6,
   "id": "b02370cd-3cbc-433d-9dfe-d6f038a9167c",
   "metadata": {},
   "outputs": [],
   "source": [
    "class BaselineModel():\n",
    "    def __init__(self, threshold=0.5):\n",
    "        super(BaselineModel, self).__init__()\n",
    "        self.threshold = threshold # 유사도 임계값\n",
    "        self.vocabulary = set()\n",
    "\n",
    "    def get_vectorizer(self):\n",
    "        return CountVectorizer(vocabulary=list(self.vocabulary))\n",
    "        \n",
    "    def fit(self, code):\n",
    "        # 입력 받은 학습 코드로 부터 vectorizer를 fit 시킵니다.\n",
    "        temp_vectorizer = CountVectorizer()\n",
    "        temp_vectorizer.fit(code)\n",
    "        # fit 호출 마다 vectorizer에 활용할 vocabulary 업데이트\n",
    "        self.vocabulary.update(temp_vectorizer.get_feature_names_out())\n",
    "        # fit 호출 마다 vectorizer 업데이트\n",
    "        self.vectorizer = self.get_vectorizer()\n",
    "    \n",
    "    def predict_proba(self, code1, code2):\n",
    "        # 입력 받은 코드 쌍으로 부터 vectorizer를 통해 vector화 합니다.\n",
    "        code1_vecs = self.vectorizer.transform(code1)\n",
    "        code2_vecs = self.vectorizer.transform(code2)\n",
    "        \n",
    "        preds = []\n",
    "        # 각각의 코드 쌍(=벡터 쌍)으로부터 cosine-similarity를 구합니다.\n",
    "        for code1_vec, code2_vec in tqdm(zip(code1_vecs, code2_vecs)):\n",
    "            preds.append(cosine_similarity(code1_vec, code2_vec))\n",
    "        \n",
    "        preds = np.reshape(preds, len(preds))\n",
    "        print('Done.')\n",
    "        # 각 코드 쌍들의 유사도를 반환\n",
    "        return preds\n",
    "    \n",
    "    def predict(self, code1, code2):\n",
    "        preds = self.predict_proba(code1, code2)\n",
    "        # cosine-similarity (유사도)가 설정한 임계값(Threshold=0.5)보다 높다면 유사하다 : 1, 아니라면 유사하지 않다 : 0\n",
    "        preds = np.where(preds>self.threshold, 1, 0)\n",
    "        # 각 코드 쌍들의 유사도를 Threshold를 통해 유사함을 판별 (이진분류)\n",
    "        return preds"
   ]
  },
  {
   "cell_type": "code",
   "execution_count": 27,
   "id": "b97b86fb",
   "metadata": {},
   "outputs": [],
   "source": [
    "def clean_extra_newlines(s):\n",
    "    \"\"\"\n",
    "    1) strip right spaces\n",
    "    2) leave left spaces as is because this is indentation\n",
    "    3) remove duplicate newlines\n",
    "    \"\"\"\n",
    "    lines = s.split('\\n')\n",
    "    clean = []\n",
    "    for line in lines:\n",
    "        if line.strip() == '':  \n",
    "            continue\n",
    "        line = line.rstrip()\n",
    "        clean.append(line)\n",
    "    return '\\n'.join(clean)\n",
    "\n",
    "\n",
    "def clean_singleline_comments(s):\n",
    "    \"\"\"\n",
    "    Remove sharp-leading comments from the beginning and any other place\n",
    "    \"\"\"\n",
    "    lines = s.split('\\n')\n",
    "    clean = []\n",
    "    for line in lines:\n",
    "        if line.lstrip().startswith('//'):\n",
    "            continue\n",
    "        if '//' in line:\n",
    "            line = line[:line.index('//')].rstrip()\n",
    "        clean.append(line)\n",
    "    return '\\n'.join(clean)\n",
    "\n",
    "def clean_multiline_comments(s):\n",
    "    \"\"\"\n",
    "    Remove all strings enclosed in triple quotes:\n",
    "    1) file-level doc-string\n",
    "    2) class, function doc-strings\n",
    "    3) any multiline string and related variable e.g. \"x = '''hello'''\" is completely removed\n",
    "    \"\"\"\n",
    "    for q in ['/*', '*/']:        \n",
    "        if q not in s:\n",
    "            continue\n",
    "        print(1)\n",
    "        lines = s.split('\\n')\n",
    "        cleaned = []\n",
    "        flag = False\n",
    "        for line in lines:\n",
    "            if line.count(q) == 2:\n",
    "                continue\n",
    "            if line.count(q) == 1:\n",
    "                flag = not flag\n",
    "                continue\n",
    "            if flag:\n",
    "                continue\n",
    "            cleaned.append(line)\n",
    "        s = '\\n'.join(cleaned)\n",
    "    return s\n",
    "\n",
    "def clean_lex(s):\n",
    "    \"\"\"Remove #include and `using namespace`\"\"\"\n",
    "    lines = s.split('\\n')\n",
    "    clean = []\n",
    "    for line in lines:\n",
    "        if '#include' in line:\n",
    "            continue\n",
    "        # if 'if __name__' in line:\n",
    "            # continue\n",
    "        if 'using namespace' in line:\n",
    "            continue\n",
    "        clean.append(line)    \n",
    "    return '\\n'.join(clean)\n",
    "\n",
    "def clean_indents(s):\n",
    "    \"\"\"\n",
    "    Remove all types of spaces\n",
    "    \"\"\"\n",
    "    return ' '.join(s.split())\n",
    "\n",
    "def preproc(s):\n",
    "    \"\"\"Apply all cleaning functions\"\"\"\n",
    "    s = clean_extra_newlines(s)\n",
    "    s = clean_singleline_comments(s)\n",
    "    s = clean_multiline_comments(s)\n",
    "    s = clean_lex(s)\n",
    "    s = clean_indents(s)\n",
    "    return s"
   ]
  },
  {
   "cell_type": "markdown",
   "id": "db119b87-c42f-49d2-af5e-e15ced996748",
   "metadata": {},
   "source": [
    "## Model(Vectorizer) Fit"
   ]
  },
  {
   "cell_type": "code",
   "execution_count": 8,
   "id": "1364eb8c-bd23-47ae-b3ab-8979266ab432",
   "metadata": {},
   "outputs": [],
   "source": [
    "train_code_paths = glob.glob('./data/train_code/*/*.cpp')"
   ]
  },
  {
   "cell_type": "code",
   "execution_count": 9,
   "id": "1e312037-5fd5-4701-8818-cea0a74e763c",
   "metadata": {},
   "outputs": [],
   "source": [
    "def read_cpp_code(file_path):\n",
    "    with open(file_path, 'r', encoding='utf-8') as file:\n",
    "        return file.read()"
   ]
  },
  {
   "cell_type": "code",
   "execution_count": null,
   "id": "d09d75e8",
   "metadata": {},
   "outputs": [],
   "source": [
    "print(train_code_paths[0])\n",
    "preproc(read_cpp_code(train_code_paths[0]))\n"
   ]
  },
  {
   "cell_type": "code",
   "execution_count": 10,
   "id": "3f5fec7f-31f1-4a9b-ad69-f3de45ef78be",
   "metadata": {},
   "outputs": [],
   "source": [
    "# 모델 선언\n",
    "model = BaselineModel(threshold=0.5)"
   ]
  },
  {
   "cell_type": "code",
   "execution_count": 11,
   "id": "5151ae6c-8efc-4695-b372-40884c3b03e7",
   "metadata": {},
   "outputs": [
    {
     "name": "stderr",
     "output_type": "stream",
     "text": [
      "  2%|▏         | 5424/250000 [00:05<04:14, 959.52it/s] \n"
     ]
    },
    {
     "ename": "KeyboardInterrupt",
     "evalue": "",
     "output_type": "error",
     "traceback": [
      "\u001b[0;31m---------------------------------------------------------------------------\u001b[0m",
      "\u001b[0;31mKeyboardInterrupt\u001b[0m                         Traceback (most recent call last)",
      "Cell \u001b[0;32mIn[11], line 4\u001b[0m\n\u001b[1;32m      2\u001b[0m code \u001b[38;5;241m=\u001b[39m read_cpp_code(path)\n\u001b[1;32m      3\u001b[0m preproc_code \u001b[38;5;241m=\u001b[39m preproc(code)\n\u001b[0;32m----> 4\u001b[0m \u001b[43mmodel\u001b[49m\u001b[38;5;241;43m.\u001b[39;49m\u001b[43mfit\u001b[49m\u001b[43m(\u001b[49m\u001b[43m[\u001b[49m\u001b[43mcode\u001b[49m\u001b[43m]\u001b[49m\u001b[43m)\u001b[49m\n",
      "Cell \u001b[0;32mIn[6], line 17\u001b[0m, in \u001b[0;36mBaselineModel.fit\u001b[0;34m(self, code)\u001b[0m\n\u001b[1;32m     15\u001b[0m \u001b[38;5;28mself\u001b[39m\u001b[38;5;241m.\u001b[39mvocabulary\u001b[38;5;241m.\u001b[39mupdate(temp_vectorizer\u001b[38;5;241m.\u001b[39mget_feature_names_out())\n\u001b[1;32m     16\u001b[0m \u001b[38;5;66;03m# fit 호출 마다 vectorizer 업데이트\u001b[39;00m\n\u001b[0;32m---> 17\u001b[0m \u001b[38;5;28mself\u001b[39m\u001b[38;5;241m.\u001b[39mvectorizer \u001b[38;5;241m=\u001b[39m \u001b[38;5;28;43mself\u001b[39;49m\u001b[38;5;241;43m.\u001b[39;49m\u001b[43mget_vectorizer\u001b[49m\u001b[43m(\u001b[49m\u001b[43m)\u001b[49m\n",
      "Cell \u001b[0;32mIn[6], line 8\u001b[0m, in \u001b[0;36mBaselineModel.get_vectorizer\u001b[0;34m(self)\u001b[0m\n\u001b[1;32m      7\u001b[0m \u001b[38;5;28;01mdef\u001b[39;00m \u001b[38;5;21mget_vectorizer\u001b[39m(\u001b[38;5;28mself\u001b[39m):\n\u001b[0;32m----> 8\u001b[0m     \u001b[38;5;28;01mreturn\u001b[39;00m CountVectorizer(vocabulary\u001b[38;5;241m=\u001b[39m\u001b[38;5;28mlist\u001b[39m(\u001b[38;5;28mself\u001b[39m\u001b[38;5;241m.\u001b[39mvocabulary))\n",
      "\u001b[0;31mKeyboardInterrupt\u001b[0m: "
     ]
    }
   ],
   "source": [
    "for path in tqdm(train_code_paths):\n",
    "    code = read_cpp_code(path)\n",
    "    preproc_code = preproc(code)\n",
    "    model.fit([code])"
   ]
  },
  {
   "cell_type": "code",
   "execution_count": null,
   "id": "e923a5ba-91ad-485f-b7e3-61b9479a191e",
   "metadata": {},
   "outputs": [
    {
     "data": {
      "text/plain": [
       "113727"
      ]
     },
     "execution_count": 27,
     "metadata": {},
     "output_type": "execute_result"
    }
   ],
   "source": [
    "len(model.vocabulary)"
   ]
  },
  {
   "cell_type": "markdown",
   "id": "8a589465-dd3c-4a25-90ee-1ee60307e2f4",
   "metadata": {},
   "source": [
    "## Validation"
   ]
  },
  {
   "cell_type": "code",
   "execution_count": null,
   "id": "55fef54f-6eba-4890-9c39-c26f6c24f62e",
   "metadata": {},
   "outputs": [],
   "source": [
    "def get_accuracy(gt, preds):\n",
    "    return (gt == preds).mean()"
   ]
  },
  {
   "cell_type": "code",
   "execution_count": null,
   "id": "b8f55fff-cb1a-4112-bca2-0702144df705",
   "metadata": {},
   "outputs": [
    {
     "name": "stderr",
     "output_type": "stream",
     "text": [
      "20000it [00:23, 855.42it/s]\n"
     ]
    },
    {
     "name": "stdout",
     "output_type": "stream",
     "text": [
      "Done.\n"
     ]
    }
   ],
   "source": [
    "val_preds = model.predict(preproc(val['code1']), preproc(val['code2']))"
   ]
  },
  {
   "cell_type": "code",
   "execution_count": null,
   "id": "2074e2a5-62ad-4f0d-ac6c-b1b8d3949157",
   "metadata": {},
   "outputs": [
    {
     "name": "stdout",
     "output_type": "stream",
     "text": [
      "0.60125\n"
     ]
    }
   ],
   "source": [
    "print(get_accuracy(val['similar'].values, val_preds))"
   ]
  },
  {
   "cell_type": "markdown",
   "id": "93981f67-bb59-41b9-b1d7-67af59f7e393",
   "metadata": {},
   "source": [
    "## Inference"
   ]
  },
  {
   "cell_type": "code",
   "execution_count": null,
   "id": "a8f82389-c08d-4b14-9b1e-d94d71ff214b",
   "metadata": {},
   "outputs": [
    {
     "name": "stderr",
     "output_type": "stream",
     "text": [
      "595000it [11:20, 874.85it/s]\n"
     ]
    },
    {
     "name": "stdout",
     "output_type": "stream",
     "text": [
      "Done.\n"
     ]
    }
   ],
   "source": [
    "# 모델 추론\n",
    "preds = model.predict(preproc(test['code1']), preproc(test['code2']))"
   ]
  },
  {
   "cell_type": "markdown",
   "id": "17e884cd-f9a8-4274-9a07-e1f4443ca51c",
   "metadata": {},
   "source": [
    "## Submission"
   ]
  },
  {
   "cell_type": "code",
   "execution_count": null,
   "id": "e9666a4d-922a-4eeb-a58b-db4ee3950f81",
   "metadata": {},
   "outputs": [],
   "source": [
    "submission = pd.read_csv('./data/sample_submission.csv')\n",
    "submission['similar'] = preds\n",
    "submission.to_csv('./result/preproc_submit.csv', index=False)"
   ]
  }
 ],
 "metadata": {
  "kernelspec": {
   "display_name": "base",
   "language": "python",
   "name": "python3"
  },
  "language_info": {
   "codemirror_mode": {
    "name": "ipython",
    "version": 3
   },
   "file_extension": ".py",
   "mimetype": "text/x-python",
   "name": "python",
   "nbconvert_exporter": "python",
   "pygments_lexer": "ipython3",
   "version": "3.11.7"
  }
 },
 "nbformat": 4,
 "nbformat_minor": 5
}
